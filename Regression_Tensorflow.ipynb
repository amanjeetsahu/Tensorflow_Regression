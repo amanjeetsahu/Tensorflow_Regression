{
  "nbformat": 4,
  "nbformat_minor": 0,
  "metadata": {
    "kernelspec": {
      "display_name": "Python 3",
      "language": "python",
      "name": "python3"
    },
    "language_info": {
      "codemirror_mode": {
        "name": "ipython",
        "version": 3
      },
      "file_extension": ".py",
      "mimetype": "text/x-python",
      "name": "python",
      "nbconvert_exporter": "python",
      "pygments_lexer": "ipython3",
      "version": "3.5.4"
    },
    "colab": {
      "name": "Regression-Tensorflow.ipynb",
      "provenance": []
    }
  },
  "cells": [
    {
      "cell_type": "markdown",
      "metadata": {
        "id": "UnXgpPv1UXXu",
        "colab_type": "text"
      },
      "source": [
        "# Regression Exercise - Solutions\n",
        "\n",
        "California Housing Data\n",
        "\n",
        "This data set contains information about all the block groups in California from the 1990 Census. In this sample a block group on average includes 1425.5 individuals living in a geographically compact area. \n",
        "\n",
        "The task is to aproximate the median house value of each block from the values of the rest of the variables. \n",
        "\n",
        " It has been obtained from the LIACC repository. The original page where the data set can be found is: http://www.liaad.up.pt/~ltorgo/Regression/DataSets.html.\n",
        " "
      ]
    },
    {
      "cell_type": "markdown",
      "metadata": {
        "collapsed": true,
        "id": "T86Teq9lUXXw",
        "colab_type": "text"
      },
      "source": [
        "The Features:\n",
        " \n",
        "* housingMedianAge: continuous. \n",
        "* totalRooms: continuous. \n",
        "* totalBedrooms: continuous. \n",
        "* population: continuous. \n",
        "* households: continuous. \n",
        "* medianIncome: continuous. \n",
        "* medianHouseValue: continuous. "
      ]
    },
    {
      "cell_type": "markdown",
      "metadata": {
        "id": "-dnoU0dZUXXw",
        "colab_type": "text"
      },
      "source": [
        "## The Data"
      ]
    },
    {
      "cell_type": "markdown",
      "metadata": {
        "id": "U60w-2S_UXXx",
        "colab_type": "text"
      },
      "source": [
        "**Import the cal_housing.csv file with pandas. Separate it into a training (70%) and testing set(30%).**"
      ]
    },
    {
      "cell_type": "code",
      "metadata": {
        "id": "wjJx6fMJUXXy",
        "colab_type": "code",
        "colab": {}
      },
      "source": [
        "import pandas as pd"
      ],
      "execution_count": 0,
      "outputs": []
    },
    {
      "cell_type": "code",
      "metadata": {
        "id": "GAOqOFUIUXX2",
        "colab_type": "code",
        "colab": {}
      },
      "source": [
        "housing = pd.read_csv('cal_housing_clean.csv')"
      ],
      "execution_count": 0,
      "outputs": []
    },
    {
      "cell_type": "code",
      "metadata": {
        "id": "tmxOViq4UXX5",
        "colab_type": "code",
        "colab": {
          "base_uri": "https://localhost:8080/",
          "height": 195
        },
        "outputId": "aa7b032b-c197-49ef-a80b-6d9e6d4604ad"
      },
      "source": [
        "housing.head()"
      ],
      "execution_count": 3,
      "outputs": [
        {
          "output_type": "execute_result",
          "data": {
            "text/html": [
              "<div>\n",
              "<style scoped>\n",
              "    .dataframe tbody tr th:only-of-type {\n",
              "        vertical-align: middle;\n",
              "    }\n",
              "\n",
              "    .dataframe tbody tr th {\n",
              "        vertical-align: top;\n",
              "    }\n",
              "\n",
              "    .dataframe thead th {\n",
              "        text-align: right;\n",
              "    }\n",
              "</style>\n",
              "<table border=\"1\" class=\"dataframe\">\n",
              "  <thead>\n",
              "    <tr style=\"text-align: right;\">\n",
              "      <th></th>\n",
              "      <th>housingMedianAge</th>\n",
              "      <th>totalRooms</th>\n",
              "      <th>totalBedrooms</th>\n",
              "      <th>population</th>\n",
              "      <th>households</th>\n",
              "      <th>medianIncome</th>\n",
              "      <th>medianHouseValue</th>\n",
              "    </tr>\n",
              "  </thead>\n",
              "  <tbody>\n",
              "    <tr>\n",
              "      <th>0</th>\n",
              "      <td>41.0</td>\n",
              "      <td>880.0</td>\n",
              "      <td>129.0</td>\n",
              "      <td>322.0</td>\n",
              "      <td>126.0</td>\n",
              "      <td>8.3252</td>\n",
              "      <td>452600.0</td>\n",
              "    </tr>\n",
              "    <tr>\n",
              "      <th>1</th>\n",
              "      <td>21.0</td>\n",
              "      <td>7099.0</td>\n",
              "      <td>1106.0</td>\n",
              "      <td>2401.0</td>\n",
              "      <td>1138.0</td>\n",
              "      <td>8.3014</td>\n",
              "      <td>358500.0</td>\n",
              "    </tr>\n",
              "    <tr>\n",
              "      <th>2</th>\n",
              "      <td>52.0</td>\n",
              "      <td>1467.0</td>\n",
              "      <td>190.0</td>\n",
              "      <td>496.0</td>\n",
              "      <td>177.0</td>\n",
              "      <td>7.2574</td>\n",
              "      <td>352100.0</td>\n",
              "    </tr>\n",
              "    <tr>\n",
              "      <th>3</th>\n",
              "      <td>52.0</td>\n",
              "      <td>1274.0</td>\n",
              "      <td>235.0</td>\n",
              "      <td>558.0</td>\n",
              "      <td>219.0</td>\n",
              "      <td>5.6431</td>\n",
              "      <td>341300.0</td>\n",
              "    </tr>\n",
              "    <tr>\n",
              "      <th>4</th>\n",
              "      <td>52.0</td>\n",
              "      <td>1627.0</td>\n",
              "      <td>280.0</td>\n",
              "      <td>565.0</td>\n",
              "      <td>259.0</td>\n",
              "      <td>3.8462</td>\n",
              "      <td>342200.0</td>\n",
              "    </tr>\n",
              "  </tbody>\n",
              "</table>\n",
              "</div>"
            ],
            "text/plain": [
              "   housingMedianAge  totalRooms  ...  medianIncome  medianHouseValue\n",
              "0              41.0       880.0  ...        8.3252          452600.0\n",
              "1              21.0      7099.0  ...        8.3014          358500.0\n",
              "2              52.0      1467.0  ...        7.2574          352100.0\n",
              "3              52.0      1274.0  ...        5.6431          341300.0\n",
              "4              52.0      1627.0  ...        3.8462          342200.0\n",
              "\n",
              "[5 rows x 7 columns]"
            ]
          },
          "metadata": {
            "tags": []
          },
          "execution_count": 3
        }
      ]
    },
    {
      "cell_type": "code",
      "metadata": {
        "id": "Z6Gjpv1MUXX8",
        "colab_type": "code",
        "colab": {
          "base_uri": "https://localhost:8080/",
          "height": 254
        },
        "outputId": "0a4eae31-7631-4857-8899-3f4310d6439f"
      },
      "source": [
        "housing.describe().transpose()"
      ],
      "execution_count": 4,
      "outputs": [
        {
          "output_type": "execute_result",
          "data": {
            "text/html": [
              "<div>\n",
              "<style scoped>\n",
              "    .dataframe tbody tr th:only-of-type {\n",
              "        vertical-align: middle;\n",
              "    }\n",
              "\n",
              "    .dataframe tbody tr th {\n",
              "        vertical-align: top;\n",
              "    }\n",
              "\n",
              "    .dataframe thead th {\n",
              "        text-align: right;\n",
              "    }\n",
              "</style>\n",
              "<table border=\"1\" class=\"dataframe\">\n",
              "  <thead>\n",
              "    <tr style=\"text-align: right;\">\n",
              "      <th></th>\n",
              "      <th>count</th>\n",
              "      <th>mean</th>\n",
              "      <th>std</th>\n",
              "      <th>min</th>\n",
              "      <th>25%</th>\n",
              "      <th>50%</th>\n",
              "      <th>75%</th>\n",
              "      <th>max</th>\n",
              "    </tr>\n",
              "  </thead>\n",
              "  <tbody>\n",
              "    <tr>\n",
              "      <th>housingMedianAge</th>\n",
              "      <td>20640.0</td>\n",
              "      <td>28.639486</td>\n",
              "      <td>12.585558</td>\n",
              "      <td>1.0000</td>\n",
              "      <td>18.0000</td>\n",
              "      <td>29.0000</td>\n",
              "      <td>37.00000</td>\n",
              "      <td>52.0000</td>\n",
              "    </tr>\n",
              "    <tr>\n",
              "      <th>totalRooms</th>\n",
              "      <td>20640.0</td>\n",
              "      <td>2635.763081</td>\n",
              "      <td>2181.615252</td>\n",
              "      <td>2.0000</td>\n",
              "      <td>1447.7500</td>\n",
              "      <td>2127.0000</td>\n",
              "      <td>3148.00000</td>\n",
              "      <td>39320.0000</td>\n",
              "    </tr>\n",
              "    <tr>\n",
              "      <th>totalBedrooms</th>\n",
              "      <td>20640.0</td>\n",
              "      <td>537.898014</td>\n",
              "      <td>421.247906</td>\n",
              "      <td>1.0000</td>\n",
              "      <td>295.0000</td>\n",
              "      <td>435.0000</td>\n",
              "      <td>647.00000</td>\n",
              "      <td>6445.0000</td>\n",
              "    </tr>\n",
              "    <tr>\n",
              "      <th>population</th>\n",
              "      <td>20640.0</td>\n",
              "      <td>1425.476744</td>\n",
              "      <td>1132.462122</td>\n",
              "      <td>3.0000</td>\n",
              "      <td>787.0000</td>\n",
              "      <td>1166.0000</td>\n",
              "      <td>1725.00000</td>\n",
              "      <td>35682.0000</td>\n",
              "    </tr>\n",
              "    <tr>\n",
              "      <th>households</th>\n",
              "      <td>20640.0</td>\n",
              "      <td>499.539680</td>\n",
              "      <td>382.329753</td>\n",
              "      <td>1.0000</td>\n",
              "      <td>280.0000</td>\n",
              "      <td>409.0000</td>\n",
              "      <td>605.00000</td>\n",
              "      <td>6082.0000</td>\n",
              "    </tr>\n",
              "    <tr>\n",
              "      <th>medianIncome</th>\n",
              "      <td>20640.0</td>\n",
              "      <td>3.870671</td>\n",
              "      <td>1.899822</td>\n",
              "      <td>0.4999</td>\n",
              "      <td>2.5634</td>\n",
              "      <td>3.5348</td>\n",
              "      <td>4.74325</td>\n",
              "      <td>15.0001</td>\n",
              "    </tr>\n",
              "    <tr>\n",
              "      <th>medianHouseValue</th>\n",
              "      <td>20640.0</td>\n",
              "      <td>206855.816909</td>\n",
              "      <td>115395.615874</td>\n",
              "      <td>14999.0000</td>\n",
              "      <td>119600.0000</td>\n",
              "      <td>179700.0000</td>\n",
              "      <td>264725.00000</td>\n",
              "      <td>500001.0000</td>\n",
              "    </tr>\n",
              "  </tbody>\n",
              "</table>\n",
              "</div>"
            ],
            "text/plain": [
              "                    count           mean  ...           75%          max\n",
              "housingMedianAge  20640.0      28.639486  ...      37.00000      52.0000\n",
              "totalRooms        20640.0    2635.763081  ...    3148.00000   39320.0000\n",
              "totalBedrooms     20640.0     537.898014  ...     647.00000    6445.0000\n",
              "population        20640.0    1425.476744  ...    1725.00000   35682.0000\n",
              "households        20640.0     499.539680  ...     605.00000    6082.0000\n",
              "medianIncome      20640.0       3.870671  ...       4.74325      15.0001\n",
              "medianHouseValue  20640.0  206855.816909  ...  264725.00000  500001.0000\n",
              "\n",
              "[7 rows x 8 columns]"
            ]
          },
          "metadata": {
            "tags": []
          },
          "execution_count": 4
        }
      ]
    },
    {
      "cell_type": "code",
      "metadata": {
        "scrolled": true,
        "id": "Xy69P4LJUXX_",
        "colab_type": "code",
        "colab": {}
      },
      "source": [
        "x_data = housing.drop(['medianHouseValue'],axis=1)"
      ],
      "execution_count": 0,
      "outputs": []
    },
    {
      "cell_type": "code",
      "metadata": {
        "id": "dzYlu2FjUXYD",
        "colab_type": "code",
        "colab": {}
      },
      "source": [
        "y_val = housing['medianHouseValue']"
      ],
      "execution_count": 0,
      "outputs": []
    },
    {
      "cell_type": "code",
      "metadata": {
        "id": "GFiKSpv7UXYG",
        "colab_type": "code",
        "colab": {}
      },
      "source": [
        "from sklearn.model_selection import train_test_split"
      ],
      "execution_count": 0,
      "outputs": []
    },
    {
      "cell_type": "code",
      "metadata": {
        "id": "K5FxDeq8UXYI",
        "colab_type": "code",
        "colab": {}
      },
      "source": [
        "X_train, X_test, y_train, y_test = train_test_split(x_data,y_val,test_size=0.3,random_state=101)"
      ],
      "execution_count": 0,
      "outputs": []
    },
    {
      "cell_type": "markdown",
      "metadata": {
        "id": "kaVBbIVLUXYL",
        "colab_type": "text"
      },
      "source": [
        "### Scale the Feature Data\n",
        "\n",
        "**Use sklearn preprocessing to create a MinMaxScaler for the feature data. Fit this scaler only to the training data. Then use it to transform X_test and X_train. Then use the scaled X_test and X_train along with pd.Dataframe to re-create two dataframes of scaled data.**"
      ]
    },
    {
      "cell_type": "code",
      "metadata": {
        "id": "D5I6wb3iUXYL",
        "colab_type": "code",
        "colab": {}
      },
      "source": [
        "from sklearn.preprocessing import MinMaxScaler"
      ],
      "execution_count": 0,
      "outputs": []
    },
    {
      "cell_type": "code",
      "metadata": {
        "id": "qSCiqVu_UXYO",
        "colab_type": "code",
        "colab": {}
      },
      "source": [
        "scaler = MinMaxScaler()"
      ],
      "execution_count": 0,
      "outputs": []
    },
    {
      "cell_type": "code",
      "metadata": {
        "id": "H4Z1XeZwUXYQ",
        "colab_type": "code",
        "colab": {
          "base_uri": "https://localhost:8080/",
          "height": 34
        },
        "outputId": "ef1ae310-9a8b-4c98-8561-d87ba7543eda"
      },
      "source": [
        "scaler.fit(X_train)"
      ],
      "execution_count": 12,
      "outputs": [
        {
          "output_type": "execute_result",
          "data": {
            "text/plain": [
              "MinMaxScaler(copy=True, feature_range=(0, 1))"
            ]
          },
          "metadata": {
            "tags": []
          },
          "execution_count": 12
        }
      ]
    },
    {
      "cell_type": "code",
      "metadata": {
        "id": "ejVrUj7OUXYS",
        "colab_type": "code",
        "colab": {}
      },
      "source": [
        "X_train = pd.DataFrame(data=scaler.transform(X_train),columns = X_train.columns,index=X_train.index)"
      ],
      "execution_count": 0,
      "outputs": []
    },
    {
      "cell_type": "code",
      "metadata": {
        "id": "7s9ULKF9UXYU",
        "colab_type": "code",
        "colab": {}
      },
      "source": [
        "X_test = pd.DataFrame(data=scaler.transform(X_test),columns = X_test.columns,index=X_test.index)"
      ],
      "execution_count": 0,
      "outputs": []
    },
    {
      "cell_type": "markdown",
      "metadata": {
        "id": "up5UkkBxUXYX",
        "colab_type": "text"
      },
      "source": [
        "### Create Feature Columns\n",
        "\n",
        "**Create the necessary tf.feature_column objects for the estimator. They should all be trated as continuous numeric_columns.**"
      ]
    },
    {
      "cell_type": "code",
      "metadata": {
        "id": "ftxgrPBDUXYY",
        "colab_type": "code",
        "colab": {
          "base_uri": "https://localhost:8080/",
          "height": 67
        },
        "outputId": "303e4531-6431-40a0-e4b9-1b5833eb979c"
      },
      "source": [
        "housing.columns"
      ],
      "execution_count": 16,
      "outputs": [
        {
          "output_type": "execute_result",
          "data": {
            "text/plain": [
              "Index(['housingMedianAge', 'totalRooms', 'totalBedrooms', 'population',\n",
              "       'households', 'medianIncome', 'medianHouseValue'],\n",
              "      dtype='object')"
            ]
          },
          "metadata": {
            "tags": []
          },
          "execution_count": 16
        }
      ]
    },
    {
      "cell_type": "code",
      "metadata": {
        "id": "rXhZ6UIFUXYa",
        "colab_type": "code",
        "colab": {
          "base_uri": "https://localhost:8080/",
          "height": 62
        },
        "outputId": "418fabf6-2334-4b88-9e17-b63b35075336"
      },
      "source": [
        "import tensorflow as tf"
      ],
      "execution_count": 17,
      "outputs": [
        {
          "output_type": "display_data",
          "data": {
            "text/html": [
              "<p style=\"color: red;\">\n",
              "The default version of TensorFlow in Colab will soon switch to TensorFlow 2.x.<br>\n",
              "We recommend you <a href=\"https://www.tensorflow.org/guide/migrate\" target=\"_blank\">upgrade</a> now \n",
              "or ensure your notebook will continue to use TensorFlow 1.x via the <code>%tensorflow_version 1.x</code> magic:\n",
              "<a href=\"https://colab.research.google.com/notebooks/tensorflow_version.ipynb\" target=\"_blank\">more info</a>.</p>\n"
            ],
            "text/plain": [
              "<IPython.core.display.HTML object>"
            ]
          },
          "metadata": {
            "tags": []
          }
        }
      ]
    },
    {
      "cell_type": "code",
      "metadata": {
        "id": "qaSX6Dl1UXYc",
        "colab_type": "code",
        "colab": {}
      },
      "source": [
        "age = tf.feature_column.numeric_column('housingMedianAge')\n",
        "rooms = tf.feature_column.numeric_column('totalRooms')\n",
        "bedrooms = tf.feature_column.numeric_column('totalBedrooms')\n",
        "pop = tf.feature_column.numeric_column('population')\n",
        "households = tf.feature_column.numeric_column('households')\n",
        "income = tf.feature_column.numeric_column('medianIncome')"
      ],
      "execution_count": 0,
      "outputs": []
    },
    {
      "cell_type": "code",
      "metadata": {
        "id": "CVVWFS2KUXYe",
        "colab_type": "code",
        "colab": {}
      },
      "source": [
        "feat_cols = [ age,rooms,bedrooms,pop,households,income]"
      ],
      "execution_count": 0,
      "outputs": []
    },
    {
      "cell_type": "markdown",
      "metadata": {
        "id": "OHmkTtV4UXYh",
        "colab_type": "text"
      },
      "source": [
        "** Create the input function for the estimator object. (play around with batch_size and num_epochs)**"
      ]
    },
    {
      "cell_type": "code",
      "metadata": {
        "id": "57QF6FyBUXYh",
        "colab_type": "code",
        "colab": {}
      },
      "source": [
        "input_func = tf.estimator.inputs.pandas_input_fn(x=X_train,y=y_train ,batch_size=10,num_epochs=1000,\n",
        "                                            shuffle=True)"
      ],
      "execution_count": 0,
      "outputs": []
    },
    {
      "cell_type": "markdown",
      "metadata": {
        "id": "qE3jYGNuUXYk",
        "colab_type": "text"
      },
      "source": [
        "** Create the estimator model. Use a DNNRegressor. Play around with the hidden units! **"
      ]
    },
    {
      "cell_type": "code",
      "metadata": {
        "id": "L1EyIlWaUXYl",
        "colab_type": "code",
        "colab": {
          "base_uri": "https://localhost:8080/",
          "height": 188
        },
        "outputId": "db6721b9-9162-4dd3-be08-70e548cc8be0"
      },
      "source": [
        "model = tf.estimator.DNNRegressor(hidden_units=[6,6,6],feature_columns=feat_cols)"
      ],
      "execution_count": 21,
      "outputs": [
        {
          "output_type": "stream",
          "text": [
            "INFO:tensorflow:Using default config.\n",
            "WARNING:tensorflow:Using temporary folder as model directory: /tmp/tmpf2eb5gx7\n",
            "INFO:tensorflow:Using config: {'_model_dir': '/tmp/tmpf2eb5gx7', '_tf_random_seed': None, '_save_summary_steps': 100, '_save_checkpoints_steps': None, '_save_checkpoints_secs': 600, '_session_config': allow_soft_placement: true\n",
            "graph_options {\n",
            "  rewrite_options {\n",
            "    meta_optimizer_iterations: ONE\n",
            "  }\n",
            "}\n",
            ", '_keep_checkpoint_max': 5, '_keep_checkpoint_every_n_hours': 10000, '_log_step_count_steps': 100, '_train_distribute': None, '_device_fn': None, '_protocol': None, '_eval_distribute': None, '_experimental_distribute': None, '_experimental_max_worker_delay_secs': None, '_session_creation_timeout_secs': 7200, '_service': None, '_cluster_spec': <tensorflow.python.training.server_lib.ClusterSpec object at 0x7f8d070070f0>, '_task_type': 'worker', '_task_id': 0, '_global_id_in_cluster': 0, '_master': '', '_evaluation_master': '', '_is_chief': True, '_num_ps_replicas': 0, '_num_worker_replicas': 1}\n"
          ],
          "name": "stdout"
        }
      ]
    },
    {
      "cell_type": "markdown",
      "metadata": {
        "id": "IvE3LB5MUXYn",
        "colab_type": "text"
      },
      "source": [
        "##### ** Train the model for ~1,000 steps. (Later come back to this and train it for more and check for improvement) **"
      ]
    },
    {
      "cell_type": "code",
      "metadata": {
        "id": "rBaMiJYhUXYn",
        "colab_type": "code",
        "colab": {
          "base_uri": "https://localhost:8080/",
          "height": 1000
        },
        "outputId": "29f6029b-4638-4937-e2b2-edad640ba5b4"
      },
      "source": [
        "model.train(input_fn=input_func,steps=25000)"
      ],
      "execution_count": 22,
      "outputs": [
        {
          "output_type": "stream",
          "text": [
            "WARNING:tensorflow:From /tensorflow-1.15.0/python3.6/tensorflow_core/python/training/training_util.py:236: Variable.initialized_value (from tensorflow.python.ops.variables) is deprecated and will be removed in a future version.\n",
            "Instructions for updating:\n",
            "Use Variable.read_value. Variables in 2.X are initialized automatically both in eager and graph (inside tf.defun) contexts.\n",
            "WARNING:tensorflow:From /tensorflow-1.15.0/python3.6/tensorflow_estimator/python/estimator/inputs/queues/feeding_queue_runner.py:62: QueueRunner.__init__ (from tensorflow.python.training.queue_runner_impl) is deprecated and will be removed in a future version.\n",
            "Instructions for updating:\n",
            "To construct input pipelines, use the `tf.data` module.\n",
            "WARNING:tensorflow:From /tensorflow-1.15.0/python3.6/tensorflow_estimator/python/estimator/inputs/queues/feeding_functions.py:500: add_queue_runner (from tensorflow.python.training.queue_runner_impl) is deprecated and will be removed in a future version.\n",
            "Instructions for updating:\n",
            "To construct input pipelines, use the `tf.data` module.\n",
            "INFO:tensorflow:Calling model_fn.\n",
            "WARNING:tensorflow:From /tensorflow-1.15.0/python3.6/tensorflow_core/python/ops/resource_variable_ops.py:1630: calling BaseResourceVariable.__init__ (from tensorflow.python.ops.resource_variable_ops) with constraint is deprecated and will be removed in a future version.\n",
            "Instructions for updating:\n",
            "If using Keras pass *_constraint arguments to layers.\n",
            "WARNING:tensorflow:From /tensorflow-1.15.0/python3.6/tensorflow_estimator/python/estimator/canned/head.py:437: to_float (from tensorflow.python.ops.math_ops) is deprecated and will be removed in a future version.\n",
            "Instructions for updating:\n",
            "Use `tf.cast` instead.\n",
            "WARNING:tensorflow:From /tensorflow-1.15.0/python3.6/tensorflow_core/python/training/adagrad.py:76: calling Constant.__init__ (from tensorflow.python.ops.init_ops) with dtype is deprecated and will be removed in a future version.\n",
            "Instructions for updating:\n",
            "Call initializer instance with the dtype argument instead of passing it to the constructor\n",
            "INFO:tensorflow:Done calling model_fn.\n",
            "INFO:tensorflow:Create CheckpointSaverHook.\n",
            "WARNING:tensorflow:From /tensorflow-1.15.0/python3.6/tensorflow_core/python/ops/array_ops.py:1475: where (from tensorflow.python.ops.array_ops) is deprecated and will be removed in a future version.\n",
            "Instructions for updating:\n",
            "Use tf.where in 2.0, which has the same broadcast rule as np.where\n",
            "INFO:tensorflow:Graph was finalized.\n",
            "INFO:tensorflow:Running local_init_op.\n",
            "INFO:tensorflow:Done running local_init_op.\n",
            "WARNING:tensorflow:From /tensorflow-1.15.0/python3.6/tensorflow_core/python/training/monitored_session.py:882: start_queue_runners (from tensorflow.python.training.queue_runner_impl) is deprecated and will be removed in a future version.\n",
            "Instructions for updating:\n",
            "To construct input pipelines, use the `tf.data` module.\n",
            "INFO:tensorflow:Saving checkpoints for 0 into /tmp/tmpf2eb5gx7/model.ckpt.\n",
            "INFO:tensorflow:loss = 770727540000.0, step = 1\n",
            "INFO:tensorflow:global_step/sec: 389.667\n",
            "INFO:tensorflow:loss = 537498350000.0, step = 101 (0.261 sec)\n",
            "WARNING:tensorflow:It seems that global step (tf.train.get_global_step) has not been increased. Current value (could be stable): 103 vs previous value: 103. You could increase the global step by passing tf.train.get_global_step() to Optimizer.apply_gradients or Optimizer.minimize.\n",
            "WARNING:tensorflow:It seems that global step (tf.train.get_global_step) has not been increased. Current value (could be stable): 129 vs previous value: 129. You could increase the global step by passing tf.train.get_global_step() to Optimizer.apply_gradients or Optimizer.minimize.\n",
            "INFO:tensorflow:global_step/sec: 448.427\n",
            "INFO:tensorflow:loss = 575056900000.0, step = 201 (0.223 sec)\n",
            "INFO:tensorflow:global_step/sec: 439.151\n",
            "INFO:tensorflow:loss = 693317860000.0, step = 301 (0.229 sec)\n",
            "INFO:tensorflow:global_step/sec: 414.582\n",
            "INFO:tensorflow:loss = 589295100000.0, step = 401 (0.241 sec)\n",
            "INFO:tensorflow:global_step/sec: 424.235\n",
            "INFO:tensorflow:loss = 202985750000.0, step = 501 (0.233 sec)\n",
            "WARNING:tensorflow:It seems that global step (tf.train.get_global_step) has not been increased. Current value (could be stable): 597 vs previous value: 597. You could increase the global step by passing tf.train.get_global_step() to Optimizer.apply_gradients or Optimizer.minimize.\n",
            "WARNING:tensorflow:It seems that global step (tf.train.get_global_step) has not been increased. Current value (could be stable): 599 vs previous value: 599. You could increase the global step by passing tf.train.get_global_step() to Optimizer.apply_gradients or Optimizer.minimize.\n",
            "INFO:tensorflow:global_step/sec: 300.06\n",
            "INFO:tensorflow:loss = 254087430000.0, step = 601 (0.333 sec)\n",
            "INFO:tensorflow:global_step/sec: 465.452\n",
            "INFO:tensorflow:loss = 308774240000.0, step = 701 (0.215 sec)\n",
            "WARNING:tensorflow:It seems that global step (tf.train.get_global_step) has not been increased. Current value (could be stable): 743 vs previous value: 743. You could increase the global step by passing tf.train.get_global_step() to Optimizer.apply_gradients or Optimizer.minimize.\n",
            "INFO:tensorflow:global_step/sec: 433.794\n",
            "INFO:tensorflow:loss = 724753800000.0, step = 801 (0.230 sec)\n",
            "INFO:tensorflow:global_step/sec: 456.364\n",
            "INFO:tensorflow:loss = 244326550000.0, step = 901 (0.220 sec)\n",
            "INFO:tensorflow:global_step/sec: 454.638\n",
            "INFO:tensorflow:loss = 265944300000.0, step = 1001 (0.222 sec)\n",
            "INFO:tensorflow:global_step/sec: 438.976\n",
            "INFO:tensorflow:loss = 253511610000.0, step = 1101 (0.230 sec)\n",
            "INFO:tensorflow:global_step/sec: 484.354\n",
            "INFO:tensorflow:loss = 530409030000.0, step = 1201 (0.207 sec)\n",
            "INFO:tensorflow:global_step/sec: 412.794\n",
            "INFO:tensorflow:loss = 300925750000.0, step = 1301 (0.235 sec)\n",
            "INFO:tensorflow:global_step/sec: 458.181\n",
            "INFO:tensorflow:loss = 56126430000.0, step = 1401 (0.218 sec)\n",
            "INFO:tensorflow:global_step/sec: 442.304\n",
            "INFO:tensorflow:loss = 337656600000.0, step = 1501 (0.228 sec)\n",
            "INFO:tensorflow:global_step/sec: 441.319\n",
            "INFO:tensorflow:loss = 209327280000.0, step = 1601 (0.232 sec)\n",
            "INFO:tensorflow:global_step/sec: 467.72\n",
            "INFO:tensorflow:loss = 61698183000.0, step = 1701 (0.209 sec)\n",
            "INFO:tensorflow:global_step/sec: 418.571\n",
            "INFO:tensorflow:loss = 136147150000.0, step = 1801 (0.240 sec)\n",
            "INFO:tensorflow:global_step/sec: 480.017\n",
            "INFO:tensorflow:loss = 35879360000.0, step = 1901 (0.205 sec)\n",
            "INFO:tensorflow:global_step/sec: 448.324\n",
            "INFO:tensorflow:loss = 133387756000.0, step = 2001 (0.226 sec)\n",
            "INFO:tensorflow:global_step/sec: 432.204\n",
            "INFO:tensorflow:loss = 99559960000.0, step = 2101 (0.231 sec)\n",
            "INFO:tensorflow:global_step/sec: 439.804\n",
            "INFO:tensorflow:loss = 141849170000.0, step = 2201 (0.225 sec)\n",
            "INFO:tensorflow:global_step/sec: 458.391\n",
            "INFO:tensorflow:loss = 66108030000.0, step = 2301 (0.218 sec)\n",
            "INFO:tensorflow:global_step/sec: 457.779\n",
            "INFO:tensorflow:loss = 59844310000.0, step = 2401 (0.221 sec)\n",
            "INFO:tensorflow:global_step/sec: 450.866\n",
            "INFO:tensorflow:loss = 136222425000.0, step = 2501 (0.219 sec)\n",
            "INFO:tensorflow:global_step/sec: 449.122\n",
            "INFO:tensorflow:loss = 64356147000.0, step = 2601 (0.223 sec)\n",
            "INFO:tensorflow:global_step/sec: 549.307\n",
            "INFO:tensorflow:loss = 140927370000.0, step = 2701 (0.182 sec)\n",
            "INFO:tensorflow:global_step/sec: 439.127\n",
            "INFO:tensorflow:loss = 107642540000.0, step = 2801 (0.233 sec)\n",
            "INFO:tensorflow:global_step/sec: 437.907\n",
            "INFO:tensorflow:loss = 137408400000.0, step = 2901 (0.225 sec)\n",
            "INFO:tensorflow:global_step/sec: 549.009\n",
            "INFO:tensorflow:loss = 205868900000.0, step = 3001 (0.192 sec)\n",
            "INFO:tensorflow:global_step/sec: 383.796\n",
            "INFO:tensorflow:loss = 165788880000.0, step = 3101 (0.262 sec)\n",
            "INFO:tensorflow:global_step/sec: 447.981\n",
            "INFO:tensorflow:loss = 73431196000.0, step = 3201 (0.213 sec)\n",
            "INFO:tensorflow:global_step/sec: 523.186\n",
            "INFO:tensorflow:loss = 63039463000.0, step = 3301 (0.200 sec)\n",
            "INFO:tensorflow:global_step/sec: 373.444\n",
            "INFO:tensorflow:loss = 129181050000.0, step = 3401 (0.264 sec)\n",
            "INFO:tensorflow:global_step/sec: 402.568\n",
            "INFO:tensorflow:loss = 124103790000.0, step = 3501 (0.248 sec)\n",
            "INFO:tensorflow:global_step/sec: 456.957\n",
            "INFO:tensorflow:loss = 59293753000.0, step = 3601 (0.212 sec)\n",
            "INFO:tensorflow:global_step/sec: 428.575\n",
            "INFO:tensorflow:loss = 134633456000.0, step = 3701 (0.232 sec)\n",
            "INFO:tensorflow:global_step/sec: 433.601\n",
            "INFO:tensorflow:loss = 70434190000.0, step = 3801 (0.233 sec)\n",
            "INFO:tensorflow:global_step/sec: 636.57\n",
            "INFO:tensorflow:loss = 76960020000.0, step = 3901 (0.158 sec)\n",
            "INFO:tensorflow:global_step/sec: 404.454\n",
            "INFO:tensorflow:loss = 217831420000.0, step = 4001 (0.257 sec)\n",
            "INFO:tensorflow:global_step/sec: 371.121\n",
            "INFO:tensorflow:loss = 95096630000.0, step = 4101 (0.258 sec)\n",
            "INFO:tensorflow:global_step/sec: 447.916\n",
            "INFO:tensorflow:loss = 37699420000.0, step = 4201 (0.222 sec)\n",
            "INFO:tensorflow:global_step/sec: 444.301\n",
            "INFO:tensorflow:loss = 110739685000.0, step = 4301 (0.225 sec)\n",
            "INFO:tensorflow:global_step/sec: 555.488\n",
            "INFO:tensorflow:loss = 111476924000.0, step = 4401 (0.182 sec)\n",
            "INFO:tensorflow:global_step/sec: 453.611\n",
            "INFO:tensorflow:loss = 65801306000.0, step = 4501 (0.227 sec)\n",
            "INFO:tensorflow:global_step/sec: 447.569\n",
            "INFO:tensorflow:loss = 195716610000.0, step = 4601 (0.223 sec)\n",
            "INFO:tensorflow:global_step/sec: 410.335\n",
            "INFO:tensorflow:loss = 113274890000.0, step = 4701 (0.244 sec)\n",
            "INFO:tensorflow:global_step/sec: 450.669\n",
            "INFO:tensorflow:loss = 134041936000.0, step = 4801 (0.217 sec)\n",
            "INFO:tensorflow:global_step/sec: 569.936\n",
            "INFO:tensorflow:loss = 222026500000.0, step = 4901 (0.174 sec)\n",
            "INFO:tensorflow:global_step/sec: 395.434\n",
            "INFO:tensorflow:loss = 169969900000.0, step = 5001 (0.253 sec)\n",
            "INFO:tensorflow:global_step/sec: 418.397\n",
            "INFO:tensorflow:loss = 109168880000.0, step = 5101 (0.240 sec)\n",
            "INFO:tensorflow:global_step/sec: 524.609\n",
            "INFO:tensorflow:loss = 132395060000.0, step = 5201 (0.189 sec)\n",
            "INFO:tensorflow:global_step/sec: 641.89\n",
            "INFO:tensorflow:loss = 103747570000.0, step = 5301 (0.158 sec)\n",
            "INFO:tensorflow:global_step/sec: 431.414\n",
            "INFO:tensorflow:loss = 89602470000.0, step = 5401 (0.233 sec)\n",
            "INFO:tensorflow:global_step/sec: 486.919\n",
            "INFO:tensorflow:loss = 76421950000.0, step = 5501 (0.205 sec)\n",
            "INFO:tensorflow:global_step/sec: 420.662\n",
            "INFO:tensorflow:loss = 24459534000.0, step = 5601 (0.249 sec)\n",
            "INFO:tensorflow:global_step/sec: 399.497\n",
            "INFO:tensorflow:loss = 74585050000.0, step = 5701 (0.249 sec)\n",
            "INFO:tensorflow:global_step/sec: 384.542\n",
            "INFO:tensorflow:loss = 66836877000.0, step = 5801 (0.246 sec)\n",
            "INFO:tensorflow:global_step/sec: 440.117\n",
            "INFO:tensorflow:loss = 86303790000.0, step = 5901 (0.227 sec)\n",
            "INFO:tensorflow:global_step/sec: 456.722\n",
            "INFO:tensorflow:loss = 106141430000.0, step = 6001 (0.219 sec)\n",
            "INFO:tensorflow:global_step/sec: 499.26\n",
            "INFO:tensorflow:loss = 87271020000.0, step = 6101 (0.202 sec)\n",
            "INFO:tensorflow:global_step/sec: 440.166\n",
            "INFO:tensorflow:loss = 81750704000.0, step = 6201 (0.227 sec)\n",
            "INFO:tensorflow:global_step/sec: 445.129\n",
            "INFO:tensorflow:loss = 64141700000.0, step = 6301 (0.225 sec)\n",
            "INFO:tensorflow:global_step/sec: 458.317\n",
            "INFO:tensorflow:loss = 69431255000.0, step = 6401 (0.224 sec)\n",
            "INFO:tensorflow:global_step/sec: 460.307\n",
            "INFO:tensorflow:loss = 135143210000.0, step = 6501 (0.212 sec)\n",
            "INFO:tensorflow:global_step/sec: 426.501\n",
            "INFO:tensorflow:loss = 168153760000.0, step = 6601 (0.233 sec)\n",
            "INFO:tensorflow:global_step/sec: 443.011\n",
            "INFO:tensorflow:loss = 86770390000.0, step = 6701 (0.226 sec)\n",
            "INFO:tensorflow:global_step/sec: 419.203\n",
            "INFO:tensorflow:loss = 151374360000.0, step = 6801 (0.238 sec)\n",
            "INFO:tensorflow:global_step/sec: 540.826\n",
            "INFO:tensorflow:loss = 36874640000.0, step = 6901 (0.188 sec)\n",
            "INFO:tensorflow:global_step/sec: 415.43\n",
            "INFO:tensorflow:loss = 49025933000.0, step = 7001 (0.248 sec)\n",
            "INFO:tensorflow:global_step/sec: 427.461\n",
            "INFO:tensorflow:loss = 120177840000.0, step = 7101 (0.227 sec)\n",
            "INFO:tensorflow:global_step/sec: 454.186\n",
            "INFO:tensorflow:loss = 151142020000.0, step = 7201 (0.216 sec)\n",
            "INFO:tensorflow:global_step/sec: 461.306\n",
            "INFO:tensorflow:loss = 61118600000.0, step = 7301 (0.220 sec)\n",
            "INFO:tensorflow:global_step/sec: 622.6\n",
            "INFO:tensorflow:loss = 51394994000.0, step = 7401 (0.162 sec)\n",
            "INFO:tensorflow:global_step/sec: 446.316\n",
            "INFO:tensorflow:loss = 92239880000.0, step = 7501 (0.233 sec)\n",
            "INFO:tensorflow:global_step/sec: 420.023\n",
            "INFO:tensorflow:loss = 108525990000.0, step = 7601 (0.236 sec)\n",
            "INFO:tensorflow:global_step/sec: 405.217\n",
            "INFO:tensorflow:loss = 28519635000.0, step = 7701 (0.250 sec)\n",
            "INFO:tensorflow:global_step/sec: 413.627\n",
            "INFO:tensorflow:loss = 166237720000.0, step = 7801 (0.232 sec)\n",
            "INFO:tensorflow:global_step/sec: 820.075\n",
            "INFO:tensorflow:loss = 113183605000.0, step = 7901 (0.118 sec)\n",
            "INFO:tensorflow:global_step/sec: 479.973\n",
            "INFO:tensorflow:loss = 246316900000.0, step = 8001 (0.209 sec)\n",
            "INFO:tensorflow:global_step/sec: 427.121\n",
            "INFO:tensorflow:loss = 40999604000.0, step = 8101 (0.243 sec)\n",
            "INFO:tensorflow:global_step/sec: 436.592\n",
            "INFO:tensorflow:loss = 158707630000.0, step = 8201 (0.230 sec)\n",
            "INFO:tensorflow:global_step/sec: 439.012\n",
            "INFO:tensorflow:loss = 72435016000.0, step = 8301 (0.229 sec)\n",
            "INFO:tensorflow:global_step/sec: 468.995\n",
            "INFO:tensorflow:loss = 156001530000.0, step = 8401 (0.209 sec)\n",
            "INFO:tensorflow:global_step/sec: 432.254\n",
            "INFO:tensorflow:loss = 155767730000.0, step = 8501 (0.232 sec)\n",
            "INFO:tensorflow:global_step/sec: 453.601\n",
            "INFO:tensorflow:loss = 106136700000.0, step = 8601 (0.216 sec)\n",
            "INFO:tensorflow:global_step/sec: 401.085\n",
            "INFO:tensorflow:loss = 61772317000.0, step = 8701 (0.248 sec)\n",
            "INFO:tensorflow:global_step/sec: 421.061\n",
            "INFO:tensorflow:loss = 37380620000.0, step = 8801 (0.238 sec)\n",
            "INFO:tensorflow:global_step/sec: 456.597\n",
            "INFO:tensorflow:loss = 150258370000.0, step = 8901 (0.219 sec)\n",
            "INFO:tensorflow:global_step/sec: 462.809\n",
            "INFO:tensorflow:loss = 120770314000.0, step = 9001 (0.216 sec)\n",
            "INFO:tensorflow:global_step/sec: 467.015\n",
            "INFO:tensorflow:loss = 114810980000.0, step = 9101 (0.214 sec)\n",
            "INFO:tensorflow:global_step/sec: 439.369\n",
            "INFO:tensorflow:loss = 116691010000.0, step = 9201 (0.230 sec)\n",
            "INFO:tensorflow:global_step/sec: 448.514\n",
            "INFO:tensorflow:loss = 100737835000.0, step = 9301 (0.221 sec)\n",
            "INFO:tensorflow:global_step/sec: 454.611\n",
            "INFO:tensorflow:loss = 70969340000.0, step = 9401 (0.219 sec)\n",
            "INFO:tensorflow:global_step/sec: 454.038\n",
            "INFO:tensorflow:loss = 127764560000.0, step = 9501 (0.222 sec)\n",
            "INFO:tensorflow:global_step/sec: 437.798\n",
            "INFO:tensorflow:loss = 52298457000.0, step = 9601 (0.230 sec)\n",
            "INFO:tensorflow:global_step/sec: 430.727\n",
            "INFO:tensorflow:loss = 79462390000.0, step = 9701 (0.231 sec)\n",
            "INFO:tensorflow:global_step/sec: 452.841\n",
            "INFO:tensorflow:loss = 111876900000.0, step = 9801 (0.219 sec)\n",
            "INFO:tensorflow:global_step/sec: 466.065\n",
            "INFO:tensorflow:loss = 78139320000.0, step = 9901 (0.215 sec)\n",
            "INFO:tensorflow:global_step/sec: 453.369\n",
            "INFO:tensorflow:loss = 145333810000.0, step = 10001 (0.227 sec)\n",
            "INFO:tensorflow:global_step/sec: 716.534\n",
            "INFO:tensorflow:loss = 117551850000.0, step = 10101 (0.134 sec)\n",
            "INFO:tensorflow:global_step/sec: 442.461\n",
            "INFO:tensorflow:loss = 48500670000.0, step = 10201 (0.227 sec)\n",
            "INFO:tensorflow:global_step/sec: 441.416\n",
            "INFO:tensorflow:loss = 64325690000.0, step = 10301 (0.231 sec)\n",
            "INFO:tensorflow:global_step/sec: 408.028\n",
            "INFO:tensorflow:loss = 62605990000.0, step = 10401 (0.242 sec)\n",
            "INFO:tensorflow:global_step/sec: 362.311\n",
            "INFO:tensorflow:loss = 51979514000.0, step = 10501 (0.272 sec)\n",
            "INFO:tensorflow:global_step/sec: 448.367\n",
            "INFO:tensorflow:loss = 54212600000.0, step = 10601 (0.223 sec)\n",
            "INFO:tensorflow:global_step/sec: 441.162\n",
            "INFO:tensorflow:loss = 74457784000.0, step = 10701 (0.228 sec)\n",
            "INFO:tensorflow:global_step/sec: 717.685\n",
            "INFO:tensorflow:loss = 157787900000.0, step = 10801 (0.138 sec)\n",
            "INFO:tensorflow:global_step/sec: 560.48\n",
            "INFO:tensorflow:loss = 200965320000.0, step = 10901 (0.189 sec)\n",
            "INFO:tensorflow:global_step/sec: 403.842\n",
            "INFO:tensorflow:loss = 53429050000.0, step = 11001 (0.246 sec)\n",
            "INFO:tensorflow:global_step/sec: 431.732\n",
            "INFO:tensorflow:loss = 90367920000.0, step = 11101 (0.234 sec)\n",
            "INFO:tensorflow:global_step/sec: 419.571\n",
            "INFO:tensorflow:loss = 64601784000.0, step = 11201 (0.238 sec)\n",
            "INFO:tensorflow:global_step/sec: 397.137\n",
            "INFO:tensorflow:loss = 55840473000.0, step = 11301 (0.252 sec)\n",
            "INFO:tensorflow:global_step/sec: 648.291\n",
            "INFO:tensorflow:loss = 76073935000.0, step = 11401 (0.142 sec)\n",
            "INFO:tensorflow:global_step/sec: 443.518\n",
            "INFO:tensorflow:loss = 143837170000.0, step = 11501 (0.239 sec)\n",
            "INFO:tensorflow:global_step/sec: 408.592\n",
            "INFO:tensorflow:loss = 37149008000.0, step = 11601 (0.244 sec)\n",
            "INFO:tensorflow:global_step/sec: 419.956\n",
            "INFO:tensorflow:loss = 135557430000.0, step = 11701 (0.238 sec)\n",
            "INFO:tensorflow:global_step/sec: 397.218\n",
            "INFO:tensorflow:loss = 143878260000.0, step = 11801 (0.252 sec)\n",
            "INFO:tensorflow:global_step/sec: 425.173\n",
            "INFO:tensorflow:loss = 221283940000.0, step = 11901 (0.226 sec)\n",
            "INFO:tensorflow:global_step/sec: 779.738\n",
            "INFO:tensorflow:loss = 119756110000.0, step = 12001 (0.125 sec)\n",
            "INFO:tensorflow:global_step/sec: 447.295\n",
            "INFO:tensorflow:loss = 158768760000.0, step = 12101 (0.233 sec)\n",
            "INFO:tensorflow:global_step/sec: 417.907\n",
            "INFO:tensorflow:loss = 108112350000.0, step = 12201 (0.243 sec)\n",
            "INFO:tensorflow:global_step/sec: 604.426\n",
            "INFO:tensorflow:loss = 136545110000.0, step = 12301 (0.155 sec)\n",
            "INFO:tensorflow:global_step/sec: 440.387\n",
            "INFO:tensorflow:loss = 168388380000.0, step = 12401 (0.229 sec)\n",
            "INFO:tensorflow:global_step/sec: 445.888\n",
            "INFO:tensorflow:loss = 75622400000.0, step = 12501 (0.224 sec)\n",
            "INFO:tensorflow:global_step/sec: 496.384\n",
            "INFO:tensorflow:loss = 83518235000.0, step = 12601 (0.198 sec)\n",
            "INFO:tensorflow:global_step/sec: 473.528\n",
            "INFO:tensorflow:loss = 93517095000.0, step = 12701 (0.220 sec)\n",
            "INFO:tensorflow:global_step/sec: 495.973\n",
            "INFO:tensorflow:loss = 76396820000.0, step = 12801 (0.194 sec)\n",
            "INFO:tensorflow:global_step/sec: 399.422\n",
            "INFO:tensorflow:loss = 48661058000.0, step = 12901 (0.253 sec)\n",
            "INFO:tensorflow:global_step/sec: 434.217\n",
            "INFO:tensorflow:loss = 118981706000.0, step = 13001 (0.229 sec)\n",
            "INFO:tensorflow:global_step/sec: 452.142\n",
            "INFO:tensorflow:loss = 126249484000.0, step = 13101 (0.224 sec)\n",
            "INFO:tensorflow:global_step/sec: 421.569\n",
            "INFO:tensorflow:loss = 51483943000.0, step = 13201 (0.237 sec)\n",
            "INFO:tensorflow:global_step/sec: 424.784\n",
            "INFO:tensorflow:loss = 41215185000.0, step = 13301 (0.236 sec)\n",
            "INFO:tensorflow:global_step/sec: 429.562\n",
            "INFO:tensorflow:loss = 109115850000.0, step = 13401 (0.236 sec)\n",
            "INFO:tensorflow:global_step/sec: 421.977\n",
            "INFO:tensorflow:loss = 92160330000.0, step = 13501 (0.229 sec)\n",
            "INFO:tensorflow:global_step/sec: 472.498\n",
            "INFO:tensorflow:loss = 81858060000.0, step = 13601 (0.220 sec)\n",
            "INFO:tensorflow:global_step/sec: 440.627\n",
            "INFO:tensorflow:loss = 43811672000.0, step = 13701 (0.218 sec)\n",
            "INFO:tensorflow:global_step/sec: 716.453\n",
            "INFO:tensorflow:loss = 60581980000.0, step = 13801 (0.139 sec)\n",
            "INFO:tensorflow:global_step/sec: 524.424\n",
            "INFO:tensorflow:loss = 116677460000.0, step = 13901 (0.193 sec)\n",
            "INFO:tensorflow:global_step/sec: 479.034\n",
            "INFO:tensorflow:loss = 196908250000.0, step = 14001 (0.207 sec)\n",
            "INFO:tensorflow:global_step/sec: 440.302\n",
            "INFO:tensorflow:loss = 43714077000.0, step = 14101 (0.237 sec)\n",
            "INFO:tensorflow:global_step/sec: 428.013\n",
            "INFO:tensorflow:loss = 44599525000.0, step = 14201 (0.232 sec)\n",
            "INFO:tensorflow:global_step/sec: 406.821\n",
            "INFO:tensorflow:loss = 182008150000.0, step = 14301 (0.244 sec)\n",
            "INFO:tensorflow:global_step/sec: 635.899\n",
            "INFO:tensorflow:loss = 29747642000.0, step = 14401 (0.153 sec)\n",
            "INFO:tensorflow:global_step/sec: 431.984\n",
            "INFO:tensorflow:loss = 60877775000.0, step = 14501 (0.232 sec)\n",
            "INFO:tensorflow:global_step/sec: 415.746\n",
            "INFO:tensorflow:loss = 95333640000.0, step = 14601 (0.242 sec)\n",
            "INFO:tensorflow:global_step/sec: 529.256\n",
            "INFO:tensorflow:loss = 94450400000.0, step = 14701 (0.185 sec)\n",
            "INFO:tensorflow:global_step/sec: 427.978\n",
            "INFO:tensorflow:loss = 117996850000.0, step = 14801 (0.242 sec)\n",
            "INFO:tensorflow:global_step/sec: 442.198\n",
            "INFO:tensorflow:loss = 74729230000.0, step = 14901 (0.228 sec)\n",
            "INFO:tensorflow:global_step/sec: 423.393\n",
            "INFO:tensorflow:loss = 83593130000.0, step = 15001 (0.234 sec)\n",
            "INFO:tensorflow:global_step/sec: 712.475\n",
            "INFO:tensorflow:loss = 66147926000.0, step = 15101 (0.134 sec)\n",
            "INFO:tensorflow:global_step/sec: 393.198\n",
            "INFO:tensorflow:loss = 70846770000.0, step = 15201 (0.264 sec)\n",
            "INFO:tensorflow:global_step/sec: 442.9\n",
            "INFO:tensorflow:loss = 100285380000.0, step = 15301 (0.224 sec)\n",
            "INFO:tensorflow:global_step/sec: 388.126\n",
            "INFO:tensorflow:loss = 57918513000.0, step = 15401 (0.262 sec)\n",
            "INFO:tensorflow:global_step/sec: 633.045\n",
            "INFO:tensorflow:loss = 61243335000.0, step = 15501 (0.147 sec)\n",
            "INFO:tensorflow:global_step/sec: 465.019\n",
            "INFO:tensorflow:loss = 70779780000.0, step = 15601 (0.215 sec)\n",
            "INFO:tensorflow:global_step/sec: 425.031\n",
            "INFO:tensorflow:loss = 62503158000.0, step = 15701 (0.233 sec)\n",
            "INFO:tensorflow:global_step/sec: 423.202\n",
            "INFO:tensorflow:loss = 60017000000.0, step = 15801 (0.238 sec)\n",
            "INFO:tensorflow:global_step/sec: 436.753\n",
            "INFO:tensorflow:loss = 157686660000.0, step = 15901 (0.233 sec)\n",
            "INFO:tensorflow:global_step/sec: 582.799\n",
            "INFO:tensorflow:loss = 98495010000.0, step = 16001 (0.167 sec)\n",
            "INFO:tensorflow:global_step/sec: 407.365\n",
            "INFO:tensorflow:loss = 96976445000.0, step = 16101 (0.243 sec)\n",
            "INFO:tensorflow:global_step/sec: 447.023\n",
            "INFO:tensorflow:loss = 30223024000.0, step = 16201 (0.233 sec)\n",
            "INFO:tensorflow:global_step/sec: 435.737\n",
            "INFO:tensorflow:loss = 95828070000.0, step = 16301 (0.229 sec)\n",
            "INFO:tensorflow:global_step/sec: 424.463\n",
            "INFO:tensorflow:loss = 98523510000.0, step = 16401 (0.227 sec)\n",
            "INFO:tensorflow:global_step/sec: 472.765\n",
            "INFO:tensorflow:loss = 152363320000.0, step = 16501 (0.212 sec)\n",
            "INFO:tensorflow:global_step/sec: 471.294\n",
            "INFO:tensorflow:loss = 57254035000.0, step = 16601 (0.212 sec)\n",
            "INFO:tensorflow:global_step/sec: 466.831\n",
            "INFO:tensorflow:loss = 69146640000.0, step = 16701 (0.214 sec)\n",
            "INFO:tensorflow:global_step/sec: 735.115\n",
            "INFO:tensorflow:loss = 45897820000.0, step = 16801 (0.136 sec)\n",
            "INFO:tensorflow:global_step/sec: 471.419\n",
            "INFO:tensorflow:loss = 113927990000.0, step = 16901 (0.218 sec)\n",
            "INFO:tensorflow:global_step/sec: 428.814\n",
            "INFO:tensorflow:loss = 104378155000.0, step = 17001 (0.232 sec)\n",
            "INFO:tensorflow:global_step/sec: 449.131\n",
            "INFO:tensorflow:loss = 74901220000.0, step = 17101 (0.227 sec)\n",
            "INFO:tensorflow:global_step/sec: 409.119\n",
            "INFO:tensorflow:loss = 111225990000.0, step = 17201 (0.244 sec)\n",
            "INFO:tensorflow:global_step/sec: 453.441\n",
            "INFO:tensorflow:loss = 131055850000.0, step = 17301 (0.214 sec)\n",
            "INFO:tensorflow:global_step/sec: 428.809\n",
            "INFO:tensorflow:loss = 113589760000.0, step = 17401 (0.240 sec)\n",
            "INFO:tensorflow:global_step/sec: 449.73\n",
            "INFO:tensorflow:loss = 59460166000.0, step = 17501 (0.214 sec)\n",
            "INFO:tensorflow:global_step/sec: 457.462\n",
            "INFO:tensorflow:loss = 117811160000.0, step = 17601 (0.219 sec)\n",
            "INFO:tensorflow:global_step/sec: 838.564\n",
            "INFO:tensorflow:loss = 57472623000.0, step = 17701 (0.120 sec)\n",
            "INFO:tensorflow:global_step/sec: 518.506\n",
            "INFO:tensorflow:loss = 87994170000.0, step = 17801 (0.196 sec)\n",
            "INFO:tensorflow:global_step/sec: 431.917\n",
            "INFO:tensorflow:loss = 84227604000.0, step = 17901 (0.233 sec)\n",
            "INFO:tensorflow:global_step/sec: 403.923\n",
            "INFO:tensorflow:loss = 62217806000.0, step = 18001 (0.245 sec)\n",
            "INFO:tensorflow:global_step/sec: 637.241\n",
            "INFO:tensorflow:loss = 71073235000.0, step = 18101 (0.162 sec)\n",
            "INFO:tensorflow:global_step/sec: 433.496\n",
            "INFO:tensorflow:loss = 52547695000.0, step = 18201 (0.231 sec)\n",
            "INFO:tensorflow:global_step/sec: 417.546\n",
            "INFO:tensorflow:loss = 35552567000.0, step = 18301 (0.240 sec)\n",
            "INFO:tensorflow:global_step/sec: 428.761\n",
            "INFO:tensorflow:loss = 112110190000.0, step = 18401 (0.234 sec)\n",
            "INFO:tensorflow:global_step/sec: 429.876\n",
            "INFO:tensorflow:loss = 93329900000.0, step = 18501 (0.234 sec)\n",
            "INFO:tensorflow:global_step/sec: 434.011\n",
            "INFO:tensorflow:loss = 101675385000.0, step = 18601 (0.230 sec)\n",
            "INFO:tensorflow:global_step/sec: 404.067\n",
            "INFO:tensorflow:loss = 69375720000.0, step = 18701 (0.247 sec)\n",
            "INFO:tensorflow:global_step/sec: 445.232\n",
            "INFO:tensorflow:loss = 160128680000.0, step = 18801 (0.215 sec)\n",
            "INFO:tensorflow:global_step/sec: 456.059\n",
            "INFO:tensorflow:loss = 54933930000.0, step = 18901 (0.219 sec)\n",
            "INFO:tensorflow:global_step/sec: 466.407\n",
            "INFO:tensorflow:loss = 77862040000.0, step = 19001 (0.214 sec)\n",
            "INFO:tensorflow:global_step/sec: 462.779\n",
            "INFO:tensorflow:loss = 156536360000.0, step = 19101 (0.216 sec)\n",
            "INFO:tensorflow:global_step/sec: 447.173\n",
            "INFO:tensorflow:loss = 85954440000.0, step = 19201 (0.224 sec)\n",
            "INFO:tensorflow:global_step/sec: 491.437\n",
            "INFO:tensorflow:loss = 64922132000.0, step = 19301 (0.203 sec)\n",
            "INFO:tensorflow:global_step/sec: 474.105\n",
            "INFO:tensorflow:loss = 75955420000.0, step = 19401 (0.211 sec)\n",
            "INFO:tensorflow:global_step/sec: 479.088\n",
            "INFO:tensorflow:loss = 41279530000.0, step = 19501 (0.217 sec)\n",
            "INFO:tensorflow:global_step/sec: 439.558\n",
            "INFO:tensorflow:loss = 39353110000.0, step = 19601 (0.222 sec)\n",
            "INFO:tensorflow:global_step/sec: 442.987\n",
            "INFO:tensorflow:loss = 88958030000.0, step = 19701 (0.223 sec)\n",
            "INFO:tensorflow:global_step/sec: 487.74\n",
            "INFO:tensorflow:loss = 36572210000.0, step = 19801 (0.205 sec)\n",
            "INFO:tensorflow:global_step/sec: 488.177\n",
            "INFO:tensorflow:loss = 166699880000.0, step = 19901 (0.205 sec)\n",
            "INFO:tensorflow:global_step/sec: 848.541\n",
            "INFO:tensorflow:loss = 51201860000.0, step = 20001 (0.119 sec)\n",
            "INFO:tensorflow:global_step/sec: 457.804\n",
            "INFO:tensorflow:loss = 78622020000.0, step = 20101 (0.222 sec)\n",
            "INFO:tensorflow:global_step/sec: 449.593\n",
            "INFO:tensorflow:loss = 68556900000.0, step = 20201 (0.220 sec)\n",
            "INFO:tensorflow:global_step/sec: 447.232\n",
            "INFO:tensorflow:loss = 113572850000.0, step = 20301 (0.225 sec)\n",
            "INFO:tensorflow:global_step/sec: 447.811\n",
            "INFO:tensorflow:loss = 118394960000.0, step = 20401 (0.222 sec)\n",
            "INFO:tensorflow:global_step/sec: 425.095\n",
            "INFO:tensorflow:loss = 110223010000.0, step = 20501 (0.237 sec)\n",
            "INFO:tensorflow:global_step/sec: 449.687\n",
            "INFO:tensorflow:loss = 107702845000.0, step = 20601 (0.221 sec)\n",
            "INFO:tensorflow:global_step/sec: 462.876\n",
            "INFO:tensorflow:loss = 145184930000.0, step = 20701 (0.215 sec)\n",
            "INFO:tensorflow:global_step/sec: 435.578\n",
            "INFO:tensorflow:loss = 78770635000.0, step = 20801 (0.231 sec)\n",
            "INFO:tensorflow:global_step/sec: 456.731\n",
            "INFO:tensorflow:loss = 48640012000.0, step = 20901 (0.222 sec)\n",
            "INFO:tensorflow:global_step/sec: 386.153\n",
            "INFO:tensorflow:loss = 150388080000.0, step = 21001 (0.255 sec)\n",
            "INFO:tensorflow:global_step/sec: 570.376\n",
            "INFO:tensorflow:loss = 100722180000.0, step = 21101 (0.186 sec)\n",
            "INFO:tensorflow:global_step/sec: 362.02\n",
            "INFO:tensorflow:loss = 142694240000.0, step = 21201 (0.276 sec)\n",
            "INFO:tensorflow:global_step/sec: 463.55\n",
            "INFO:tensorflow:loss = 113610736000.0, step = 21301 (0.206 sec)\n",
            "INFO:tensorflow:global_step/sec: 594.126\n",
            "INFO:tensorflow:loss = 38873395000.0, step = 21401 (0.165 sec)\n",
            "INFO:tensorflow:global_step/sec: 514.839\n",
            "INFO:tensorflow:loss = 32699860000.0, step = 21501 (0.205 sec)\n",
            "INFO:tensorflow:global_step/sec: 424.148\n",
            "INFO:tensorflow:loss = 116691140000.0, step = 21601 (0.227 sec)\n",
            "INFO:tensorflow:global_step/sec: 438.533\n",
            "INFO:tensorflow:loss = 75560800000.0, step = 21701 (0.229 sec)\n",
            "INFO:tensorflow:global_step/sec: 459.512\n",
            "INFO:tensorflow:loss = 41576104000.0, step = 21801 (0.220 sec)\n",
            "INFO:tensorflow:global_step/sec: 448.7\n",
            "INFO:tensorflow:loss = 159298420000.0, step = 21901 (0.216 sec)\n",
            "INFO:tensorflow:global_step/sec: 414.745\n",
            "INFO:tensorflow:loss = 98800190000.0, step = 22001 (0.248 sec)\n",
            "INFO:tensorflow:global_step/sec: 436.155\n",
            "INFO:tensorflow:loss = 109538540000.0, step = 22101 (0.225 sec)\n",
            "INFO:tensorflow:global_step/sec: 423.094\n",
            "INFO:tensorflow:loss = 48648036000.0, step = 22201 (0.240 sec)\n",
            "INFO:tensorflow:global_step/sec: 463.412\n",
            "INFO:tensorflow:loss = 99274470000.0, step = 22301 (0.211 sec)\n",
            "INFO:tensorflow:global_step/sec: 454.892\n",
            "INFO:tensorflow:loss = 98955050000.0, step = 22401 (0.220 sec)\n",
            "INFO:tensorflow:global_step/sec: 455.363\n",
            "INFO:tensorflow:loss = 47720670000.0, step = 22501 (0.218 sec)\n",
            "INFO:tensorflow:global_step/sec: 470.558\n",
            "INFO:tensorflow:loss = 72633860000.0, step = 22601 (0.214 sec)\n",
            "INFO:tensorflow:global_step/sec: 462.174\n",
            "INFO:tensorflow:loss = 56218845000.0, step = 22701 (0.215 sec)\n",
            "INFO:tensorflow:global_step/sec: 462.485\n",
            "INFO:tensorflow:loss = 153079140000.0, step = 22801 (0.219 sec)\n",
            "INFO:tensorflow:global_step/sec: 454.786\n",
            "INFO:tensorflow:loss = 119451230000.0, step = 22901 (0.217 sec)\n",
            "INFO:tensorflow:global_step/sec: 449.119\n",
            "INFO:tensorflow:loss = 128075490000.0, step = 23001 (0.223 sec)\n",
            "INFO:tensorflow:global_step/sec: 488.66\n",
            "INFO:tensorflow:loss = 49280967000.0, step = 23101 (0.208 sec)\n",
            "INFO:tensorflow:global_step/sec: 464.452\n",
            "INFO:tensorflow:loss = 73258615000.0, step = 23201 (0.215 sec)\n",
            "INFO:tensorflow:global_step/sec: 439.836\n",
            "INFO:tensorflow:loss = 82553670000.0, step = 23301 (0.228 sec)\n",
            "INFO:tensorflow:global_step/sec: 431.794\n",
            "INFO:tensorflow:loss = 46463160000.0, step = 23401 (0.229 sec)\n",
            "INFO:tensorflow:global_step/sec: 478.3\n",
            "INFO:tensorflow:loss = 40783830000.0, step = 23501 (0.210 sec)\n",
            "INFO:tensorflow:global_step/sec: 443.707\n",
            "INFO:tensorflow:loss = 184350930000.0, step = 23601 (0.224 sec)\n",
            "INFO:tensorflow:global_step/sec: 472.683\n",
            "INFO:tensorflow:loss = 68461090000.0, step = 23701 (0.211 sec)\n",
            "INFO:tensorflow:global_step/sec: 468.132\n",
            "INFO:tensorflow:loss = 87719930000.0, step = 23801 (0.215 sec)\n",
            "INFO:tensorflow:global_step/sec: 432.16\n",
            "INFO:tensorflow:loss = 85096686000.0, step = 23901 (0.231 sec)\n",
            "INFO:tensorflow:global_step/sec: 426.242\n",
            "INFO:tensorflow:loss = 97330310000.0, step = 24001 (0.237 sec)\n",
            "INFO:tensorflow:global_step/sec: 463.036\n",
            "INFO:tensorflow:loss = 33053884000.0, step = 24101 (0.213 sec)\n",
            "INFO:tensorflow:global_step/sec: 470.068\n",
            "INFO:tensorflow:loss = 56118804000.0, step = 24201 (0.216 sec)\n",
            "INFO:tensorflow:global_step/sec: 452.792\n",
            "INFO:tensorflow:loss = 50916876000.0, step = 24301 (0.218 sec)\n",
            "INFO:tensorflow:global_step/sec: 460.239\n",
            "INFO:tensorflow:loss = 150559180000.0, step = 24401 (0.217 sec)\n",
            "INFO:tensorflow:global_step/sec: 507.375\n",
            "INFO:tensorflow:loss = 91413240000.0, step = 24501 (0.200 sec)\n",
            "INFO:tensorflow:global_step/sec: 461.884\n",
            "INFO:tensorflow:loss = 172320490000.0, step = 24601 (0.215 sec)\n",
            "INFO:tensorflow:global_step/sec: 468.067\n",
            "INFO:tensorflow:loss = 73172574000.0, step = 24701 (0.223 sec)\n",
            "INFO:tensorflow:global_step/sec: 424.531\n",
            "INFO:tensorflow:loss = 74209130000.0, step = 24801 (0.225 sec)\n",
            "INFO:tensorflow:global_step/sec: 456.325\n",
            "INFO:tensorflow:loss = 105684780000.0, step = 24901 (0.222 sec)\n",
            "INFO:tensorflow:Saving checkpoints for 25000 into /tmp/tmpf2eb5gx7/model.ckpt.\n",
            "INFO:tensorflow:Loss for final step: 96075230000.0.\n"
          ],
          "name": "stdout"
        },
        {
          "output_type": "execute_result",
          "data": {
            "text/plain": [
              "<tensorflow_estimator.python.estimator.canned.dnn.DNNRegressor at 0x7f8d4986ac18>"
            ]
          },
          "metadata": {
            "tags": []
          },
          "execution_count": 22
        }
      ]
    },
    {
      "cell_type": "markdown",
      "metadata": {
        "id": "3hTg2LTuUXYp",
        "colab_type": "text"
      },
      "source": [
        "**Create a prediction input function and then use the .predict method off your estimator model to create a list or predictions on your test data.**"
      ]
    },
    {
      "cell_type": "code",
      "metadata": {
        "id": "I2kwaKhlUXYq",
        "colab_type": "code",
        "colab": {}
      },
      "source": [
        "predict_input_func = tf.estimator.inputs.pandas_input_fn(\n",
        "      x=X_test,\n",
        "      batch_size=10,\n",
        "      num_epochs=1,\n",
        "      shuffle=False)"
      ],
      "execution_count": 0,
      "outputs": []
    },
    {
      "cell_type": "code",
      "metadata": {
        "id": "knhIOvI-UXYs",
        "colab_type": "code",
        "colab": {}
      },
      "source": [
        "pred_gen = model.predict(predict_input_func)"
      ],
      "execution_count": 0,
      "outputs": []
    },
    {
      "cell_type": "code",
      "metadata": {
        "id": "bhOMf-EBUXYu",
        "colab_type": "code",
        "colab": {
          "base_uri": "https://localhost:8080/",
          "height": 118
        },
        "outputId": "ecb84ad1-5cf9-4dde-b458-a49cddfbdedc"
      },
      "source": [
        "predictions = list(pred_gen)"
      ],
      "execution_count": 25,
      "outputs": [
        {
          "output_type": "stream",
          "text": [
            "INFO:tensorflow:Calling model_fn.\n",
            "INFO:tensorflow:Done calling model_fn.\n",
            "INFO:tensorflow:Graph was finalized.\n",
            "INFO:tensorflow:Restoring parameters from /tmp/tmpf2eb5gx7/model.ckpt-25000\n",
            "INFO:tensorflow:Running local_init_op.\n",
            "INFO:tensorflow:Done running local_init_op.\n"
          ],
          "name": "stdout"
        }
      ]
    },
    {
      "cell_type": "markdown",
      "metadata": {
        "id": "SqDWJl7hUXYw",
        "colab_type": "text"
      },
      "source": [
        "**Calculate the RMSE. Do this manually or use [sklearn.metrics](http://scikit-learn.org/stable/modules/generated/sklearn.metrics.mean_squared_error.html)**"
      ]
    },
    {
      "cell_type": "code",
      "metadata": {
        "id": "hLm-rVExUXYx",
        "colab_type": "code",
        "colab": {}
      },
      "source": [
        "final_preds = []\n",
        "for pred in predictions:\n",
        "    final_preds.append(pred['predictions'])"
      ],
      "execution_count": 0,
      "outputs": []
    },
    {
      "cell_type": "code",
      "metadata": {
        "id": "a4klYU2jUXYz",
        "colab_type": "code",
        "colab": {}
      },
      "source": [
        "from sklearn.metrics import mean_squared_error"
      ],
      "execution_count": 0,
      "outputs": []
    },
    {
      "cell_type": "code",
      "metadata": {
        "id": "BPCA6z3wUXY1",
        "colab_type": "code",
        "colab": {
          "base_uri": "https://localhost:8080/",
          "height": 34
        },
        "outputId": "31e58e2d-43fd-4982-dba9-cd2df1698fcb"
      },
      "source": [
        "mean_squared_error(y_test,final_preds)**0.5"
      ],
      "execution_count": 28,
      "outputs": [
        {
          "output_type": "execute_result",
          "data": {
            "text/plain": [
              "98569.12736727699"
            ]
          },
          "metadata": {
            "tags": []
          },
          "execution_count": 28
        }
      ]
    }
  ]
}